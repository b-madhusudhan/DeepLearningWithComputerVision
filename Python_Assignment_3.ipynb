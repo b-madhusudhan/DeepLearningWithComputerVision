{
  "nbformat": 4,
  "nbformat_minor": 0,
  "metadata": {
    "colab": {
      "name": "Python - Assignment 3.ipynb",
      "provenance": [],
      "collapsed_sections": []
    },
    "kernelspec": {
      "name": "python3",
      "display_name": "Python 3"
    }
  },
  "cells": [
    {
      "cell_type": "markdown",
      "metadata": {
        "id": "Gxvdbrj_q8_3",
        "colab_type": "text"
      },
      "source": [
        "1.1 Write a Python Program to implement your own myreduce() function which works exactly like Python's built-in function reduce()\n",
        "\n"
      ]
    },
    {
      "cell_type": "code",
      "metadata": {
        "id": "2V5imT0sstY5",
        "colab_type": "code",
        "colab": {}
      },
      "source": [
        "#Custom reduce function\n",
        "def myreduce(func, sequence):\n",
        "\n",
        "  result = sequence[0]\n",
        "\n",
        "  for item in range(1,len(sequence)):\n",
        "   result = func(result, sequence[item])\n",
        "\n",
        "  return result"
      ],
      "execution_count": null,
      "outputs": []
    },
    {
      "cell_type": "code",
      "metadata": {
        "id": "4VNhcsgZw5gj",
        "colab_type": "code",
        "colab": {
          "base_uri": "https://localhost:8080/",
          "height": 34
        },
        "outputId": "b7c066b6-000f-4eb4-87a7-8fb36ca12ac7"
      },
      "source": [
        "# Testing the custom reduce function\n",
        "def add_num(x,y): return x+y\n",
        "print (\"Adding numbers in the list : {}\".format(myreduce(square_num, [1,2,3,8,17,99,109])))"
      ],
      "execution_count": null,
      "outputs": [
        {
          "output_type": "stream",
          "text": [
            "Adding numbers in the list : 239\n"
          ],
          "name": "stdout"
        }
      ]
    },
    {
      "cell_type": "code",
      "metadata": {
        "id": "9T1IOqA__68C",
        "colab_type": "code",
        "colab": {
          "base_uri": "https://localhost:8080/",
          "height": 34
        },
        "outputId": "14ee4775-a097-4186-ab48-7e3adeabe97b"
      },
      "source": [
        "# Testing the custom reduce function\n",
        "def mul_num(x,y): return x*y\n",
        "print (\"Mulitplying numbers in the list :%d\" %myreduce(square_num, [1,2,3,8,17,99,109]))"
      ],
      "execution_count": null,
      "outputs": [
        {
          "output_type": "stream",
          "text": [
            "Mulitplying numbers in the list :239\n"
          ],
          "name": "stdout"
        }
      ]
    },
    {
      "cell_type": "markdown",
      "metadata": {
        "id": "KhStiYDHLSgY",
        "colab_type": "text"
      },
      "source": [
        "--------------------------------------------------------------------------------"
      ]
    },
    {
      "cell_type": "markdown",
      "metadata": {
        "id": "uooBhVjsA-EV",
        "colab_type": "text"
      },
      "source": [
        "1.2 Write a Python program to implement your own myfilter() function which works exactly like Python's built-in function filter()"
      ]
    },
    {
      "cell_type": "code",
      "metadata": {
        "id": "DbFBD5mkAMJT",
        "colab_type": "code",
        "colab": {}
      },
      "source": [
        "def myfilter(func, sequence):\n",
        "\n",
        " result = []\n",
        " for item in sequence:\n",
        "  if func(item):\n",
        "   result.append(item)\n",
        "\n",
        " return result"
      ],
      "execution_count": null,
      "outputs": []
    },
    {
      "cell_type": "code",
      "metadata": {
        "id": "ye_IzzPHBJu3",
        "colab_type": "code",
        "colab": {}
      },
      "source": [
        "def isEven(x):\n",
        " if (x %2 == 0): \n",
        "  return True \n",
        " else: \n",
        "  return False\n"
      ],
      "execution_count": null,
      "outputs": []
    },
    {
      "cell_type": "code",
      "metadata": {
        "id": "sruwauz1BcQp",
        "colab_type": "code",
        "colab": {
          "base_uri": "https://localhost:8080/",
          "height": 34
        },
        "outputId": "89eff427-643e-4515-d89b-52e8a8fae706"
      },
      "source": [
        "print (myfilter(isEven, [0,1,-2,3,4,5,8,10,11,12,12,15]))"
      ],
      "execution_count": null,
      "outputs": [
        {
          "output_type": "stream",
          "text": [
            "[0, -2, 4, 8, 10, 12, 12]\n"
          ],
          "name": "stdout"
        }
      ]
    },
    {
      "cell_type": "code",
      "metadata": {
        "id": "A4IiUn93dB-V",
        "colab_type": "code",
        "colab": {
          "base_uri": "https://localhost:8080/",
          "height": 51
        },
        "outputId": "6466b31c-f1bb-41b8-f3b3-a75b6746cc00"
      },
      "source": [
        "lst = [0,1,-2,3,4,5,8,10,11,12,12,15]\n",
        "\n",
        "print(len(lst))\n",
        "for item in range(0, len(lst)):\n",
        "  print(lst[item],end= ' ')"
      ],
      "execution_count": null,
      "outputs": [
        {
          "output_type": "stream",
          "text": [
            "12\n",
            "0 1 -2 3 4 5 8 10 11 12 12 15 "
          ],
          "name": "stdout"
        }
      ]
    },
    {
      "cell_type": "markdown",
      "metadata": {
        "id": "E-hpFsmiLNSe",
        "colab_type": "text"
      },
      "source": [
        "--------------------------------------------------------------------------------"
      ]
    },
    {
      "cell_type": "markdown",
      "metadata": {
        "id": "DdAWMw_9KvtD",
        "colab_type": "text"
      },
      "source": [
        "2. Implement List comprehensions to produce the following lists. Write List comprehensions to produce the following Lists\n",
        "\n",
        "\n",
        "\n",
        "['x', 'xx', 'xxx', 'xxxx', 'y', 'yy', 'yyy', 'yyyy', 'z', 'zz', 'zzz', 'zzzz'] \n",
        "\n",
        "['x', 'y', 'z', 'xx', 'yy', 'zz', 'xxx', 'yyy', 'zzz', 'xxxx', 'yyyy', 'zzzz'] \n",
        "\n",
        "[[2], [3], [4], [3], [4], [5], [4], [5], [6]] \n",
        "\n",
        "[[2, 3, 4, 5], [3, 4, 5, 6], [4, 5, 6, 7], [5, 6, 7, 8]]\n",
        "\n",
        "[(1, 1), (2, 1), (3, 1), (1, 2), (2, 2), (3, 2), (1, 3), (2, 3), (3, 3)]"
      ]
    },
    {
      "cell_type": "code",
      "metadata": {
        "id": "HoYuyZBQTVvP",
        "colab_type": "code",
        "colab": {
          "base_uri": "https://localhost:8080/",
          "height": 34
        },
        "outputId": "62a3de98-b714-4fc0-ffb0-77675fdc9508"
      },
      "source": [
        "'''\n",
        "['x', 'xx', 'xxx', 'xxxx', 'y', 'yy', 'yyy', 'yyyy', 'z', 'zz', 'zzz', 'zzzz']\n",
        "'''\n",
        "\n",
        "a1 = ['x'*i for i in range(1, 5)]\n",
        "b1 = ['y'*j for j in range(1, 5)]\n",
        "c1 = ['z'*k for k in range(1, 5)]\n",
        "\n",
        "a1 + b1 + c1"
      ],
      "execution_count": 49,
      "outputs": [
        {
          "output_type": "execute_result",
          "data": {
            "text/plain": [
              "['x', 'xx', 'xxx', 'xxxx', 'y', 'yy', 'yyy', 'yyyy', 'z', 'zz', 'zzz', 'zzzz']"
            ]
          },
          "metadata": {
            "tags": []
          },
          "execution_count": 49
        }
      ]
    },
    {
      "cell_type": "code",
      "metadata": {
        "id": "Kr59LOTsZSyH",
        "colab_type": "code",
        "colab": {
          "base_uri": "https://localhost:8080/",
          "height": 34
        },
        "outputId": "c8253c07-7003-4128-cd3d-c7cedd645c9d"
      },
      "source": [
        "'''\n",
        "['x', 'xx', 'xxx', 'xxxx', 'y', 'yy', 'yyy', 'yyyy', 'z', 'zz', 'zzz', 'zzzz']\n",
        "'''\n",
        "c_list = ['x','y','z']\n",
        "r1 = [ c*i for c in c_list  for i in range(1,5)]\n",
        "r1"
      ],
      "execution_count": 48,
      "outputs": [
        {
          "output_type": "execute_result",
          "data": {
            "text/plain": [
              "['x', 'xx', 'xxx', 'xxxx', 'y', 'yy', 'yyy', 'yyyy', 'z', 'zz', 'zzz', 'zzzz']"
            ]
          },
          "metadata": {
            "tags": []
          },
          "execution_count": 48
        }
      ]
    },
    {
      "cell_type": "code",
      "metadata": {
        "id": "JLbx9wKoytkY",
        "colab_type": "code",
        "colab": {
          "base_uri": "https://localhost:8080/",
          "height": 34
        },
        "outputId": "9c37c71b-08d2-4d19-a215-ea34db5c0035"
      },
      "source": [
        "'''\n",
        "['x', 'y', 'z', 'xx', 'yy', 'zz', 'xxx', 'yyy', 'zzz', 'xxxx', 'yyyy', 'zzzz']\n",
        "'''\n",
        "r2 = [ c*i for i in range(1,5) for c in c_list ]\n",
        "r2"
      ],
      "execution_count": 47,
      "outputs": [
        {
          "output_type": "execute_result",
          "data": {
            "text/plain": [
              "['x', 'y', 'z', 'xx', 'yy', 'zz', 'xxx', 'yyy', 'zzz', 'xxxx', 'yyyy', 'zzzz']"
            ]
          },
          "metadata": {
            "tags": []
          },
          "execution_count": 47
        }
      ]
    },
    {
      "cell_type": "code",
      "metadata": {
        "id": "Aoz644FWzeMZ",
        "colab_type": "code",
        "colab": {
          "base_uri": "https://localhost:8080/",
          "height": 34
        },
        "outputId": "bfdc0e4d-c1c8-4520-abc4-07b28830bfc4"
      },
      "source": [
        "'''\n",
        "[[2], [3], [4], [3], [4], [5], [4], [5], [6]]\n",
        "'''\n",
        "num_list = [2,3,4]\n",
        "r3 = [ [i+num] for i in num_list for num in range(0,3)]\n",
        "r3"
      ],
      "execution_count": 38,
      "outputs": [
        {
          "output_type": "execute_result",
          "data": {
            "text/plain": [
              "[[2], [3], [4], [3], [4], [5], [4], [5], [6]]"
            ]
          },
          "metadata": {
            "tags": []
          },
          "execution_count": 38
        }
      ]
    },
    {
      "cell_type": "code",
      "metadata": {
        "id": "hu3BBPFT0riH",
        "colab_type": "code",
        "colab": {
          "base_uri": "https://localhost:8080/",
          "height": 34
        },
        "outputId": "5de5f6ee-fd75-4b50-b11a-659712bda3d0"
      },
      "source": [
        "'''\n",
        "[[2, 3, 4, 5], [3, 4, 5, 6], [4, 5, 6, 7], [5, 6, 7, 8]]\n",
        "'''\n",
        "num_list = [2,3,4,5]\n",
        "r3 = [ [i+num for i in num_list] for num in range(0,4)]\n",
        "r3"
      ],
      "execution_count": 46,
      "outputs": [
        {
          "output_type": "execute_result",
          "data": {
            "text/plain": [
              "[[2, 3, 4, 5], [3, 4, 5, 6], [4, 5, 6, 7], [5, 6, 7, 8]]"
            ]
          },
          "metadata": {
            "tags": []
          },
          "execution_count": 46
        }
      ]
    }
  ]
}