{
  "nbformat": 4,
  "nbformat_minor": 0,
  "metadata": {
    "colab": {
      "name": "Python- Assignment 2.ipynb",
      "provenance": [],
      "collapsed_sections": []
    },
    "kernelspec": {
      "name": "python3",
      "display_name": "Python 3"
    }
  },
  "cells": [
    {
      "cell_type": "code",
      "metadata": {
        "id": "nDDLq5C7eKwP",
        "colab_type": "code",
        "colab": {}
      },
      "source": [
        "# 1. Create the below pattern using nested for loop in Python.\n",
        "'''\n",
        "*\n",
        "* *\n",
        "* * *\n",
        "* * * *\n",
        "* * * * *\n",
        "* * * *\n",
        "* * *\n",
        "* *\n",
        "*\n",
        "'''"
      ],
      "execution_count": null,
      "outputs": []
    },
    {
      "cell_type": "code",
      "metadata": {
        "id": "C-HqXxjTkvr0",
        "colab_type": "code",
        "colab": {
          "base_uri": "https://localhost:8080/",
          "height": 340
        },
        "outputId": "78dbd2df-9c52-4176-bcbe-ac3f47ae5ecd"
      },
      "source": [
        "star_counter = 0\n",
        "for i in range(1,10):\n",
        "  print('\\n')\n",
        "  if i <= 5:\n",
        "    star_counter += 1\n",
        "    for j in range(0, i):\n",
        "      print('*', end = ' ')\n",
        "  else:\n",
        "    star_counter -= 1 \n",
        "    for k in range(0, star_counter):\n",
        "      print('*', end = ' ')\n"
      ],
      "execution_count": 6,
      "outputs": [
        {
          "output_type": "stream",
          "text": [
            "\n",
            "\n",
            "* \n",
            "\n",
            "* * \n",
            "\n",
            "* * * \n",
            "\n",
            "* * * * \n",
            "\n",
            "* * * * * \n",
            "\n",
            "* * * * \n",
            "\n",
            "* * * \n",
            "\n",
            "* * \n",
            "\n",
            "* "
          ],
          "name": "stdout"
        }
      ]
    },
    {
      "cell_type": "markdown",
      "metadata": {
        "id": "_70HHeOOnU2h",
        "colab_type": "text"
      },
      "source": [
        "2. Write a Python program to reverse a word after accepting the input from the user.\n",
        "\n",
        "  Input word: ineuron,\n",
        "  Output: norueni"
      ]
    },
    {
      "cell_type": "code",
      "metadata": {
        "id": "cCRTa9Ptnfzz",
        "colab_type": "code",
        "colab": {
          "base_uri": "https://localhost:8080/",
          "height": 51
        },
        "outputId": "a55cbca5-a948-4ed3-f3fd-7992cbb05ff8"
      },
      "source": [
        "enter_str = input('Enter any string or word :')\n",
        "print('Result :',enter_str[::-1])"
      ],
      "execution_count": 9,
      "outputs": [
        {
          "output_type": "stream",
          "text": [
            "Enter any string or word :ineuron\n",
            "Result : norueni\n"
          ],
          "name": "stdout"
        }
      ]
    }
  ]
}